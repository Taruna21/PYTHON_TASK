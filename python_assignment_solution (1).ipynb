{
 "cells": [
  {
   "cell_type": "code",
   "execution_count": 4,
   "id": "c1862605-9bef-4933-af51-31a9cc23f9d3",
   "metadata": {},
   "outputs": [
    {
     "name": "stdin",
     "output_type": "stream",
     "text": [
      "enter the value of length : 7\n",
      "enter the value of width : 6\n"
     ]
    },
    {
     "data": {
      "text/plain": [
       "42"
      ]
     },
     "execution_count": 4,
     "metadata": {},
     "output_type": "execute_result"
    }
   ],
   "source": [
    "'''Task 1: Calculate Area with Conditions\n",
    "Write a Python function calculate_area that takes two parameters: length and width. It \n",
    "should calculate and return the area of a rectangle. However, add a condition: if the length \n",
    "is equal to the width, return \"This is a square!\" instead of the area. Then, write a program to \n",
    "input values for length and width from the user and call the calculate_area function to \n",
    "display either the area or the message.'''\n",
    "\n",
    "def calculate_area(length , width):\n",
    "    rectangle = length * width\n",
    "    if length == width:\n",
    "        return \"This is a square\"\n",
    "    return rectangle\n",
    "\n",
    "length = int(input(\"enter the value of length :\"))\n",
    "width = int(input(\"enter the value of width :\"))\n",
    "\n",
    "calculate_area(length , width)"
   ]
  },
  {
   "cell_type": "code",
   "execution_count": 5,
   "id": "d1ed6886-2b53-48a1-82b4-01b75c791302",
   "metadata": {},
   "outputs": [
    {
     "name": "stdin",
     "output_type": "stream",
     "text": [
      "enter the value of length : 6\n",
      "enter the value of width : 6\n"
     ]
    },
    {
     "data": {
      "text/plain": [
       "'This is a square'"
      ]
     },
     "execution_count": 5,
     "metadata": {},
     "output_type": "execute_result"
    }
   ],
   "source": [
    "length = int(input(\"enter the value of length :\"))\n",
    "width = int(input(\"enter the value of width :\"))\n",
    "\n",
    "calculate_area(length , width)"
   ]
  },
  {
   "cell_type": "code",
   "execution_count": 10,
   "id": "df4c08cc-dd17-4f6c-b971-a32f1547f787",
   "metadata": {},
   "outputs": [
    {
     "name": "stdin",
     "output_type": "stream",
     "text": [
      "Enter the number of Fibonacci numbers you want:  10\n"
     ]
    },
    {
     "name": "stdout",
     "output_type": "stream",
     "text": [
      "[0, 1, 1, 2, 3, 5, 8, 13, 21, 34]\n"
     ]
    }
   ],
   "source": [
    "'''Task 2: Generate Fibonacci Series\n",
    "Problem Statement:\n",
    "Write a Python program that generates the Fibonacci sequence up to a specified number of \n",
    "terms, n. The Fibonacci sequence starts with 0 and 1, and each subsequent number in the \n",
    "sequence is the sum of the two preceding numbers (e.g., 0, 1, 1, 2, 3, 5, 8, ...). Prompt the \n",
    "user to enter the number of terms (n) they want in the sequence and then display the \n",
    "Fibonacci sequence up to that number of terms'''\n",
    "\n",
    "def fibonacci_series(n):\n",
    "    if n <= 0:\n",
    "        return []\n",
    "    elif n == 1:\n",
    "        return [0]\n",
    "    elif n == 2:\n",
    "        return [0, 1]\n",
    "    else:\n",
    "        fib_series = fibonacci_series(n - 1)\n",
    "        fib_series.append(fib_series[-1] + fib_series[-2])\n",
    "        return fib_series\n",
    "\n",
    "n = int(input(\"Enter the number of Fibonacci numbers you want: \"))\n",
    "result = fibonacci_series(n)\n",
    "print(result)\n"
   ]
  },
  {
   "cell_type": "code",
   "execution_count": null,
   "id": "cd231b6b-679f-4272-a814-fec92bc87a40",
   "metadata": {},
   "outputs": [],
   "source": [
    "#task_finished"
   ]
  }
 ],
 "metadata": {
  "kernelspec": {
   "display_name": "Python 3 (ipykernel)",
   "language": "python",
   "name": "python3"
  },
  "language_info": {
   "codemirror_mode": {
    "name": "ipython",
    "version": 3
   },
   "file_extension": ".py",
   "mimetype": "text/x-python",
   "name": "python",
   "nbconvert_exporter": "python",
   "pygments_lexer": "ipython3",
   "version": "3.10.8"
  }
 },
 "nbformat": 4,
 "nbformat_minor": 5
}
